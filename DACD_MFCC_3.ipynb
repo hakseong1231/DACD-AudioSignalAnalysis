{
  "nbformat": 4,
  "nbformat_minor": 0,
  "metadata": {
    "colab": {
      "name": "DACD_MFCC_3",
      "provenance": [],
      "collapsed_sections": [],
      "mount_file_id": "10qapK-s0Lb32Xc0VtaSNdDZW4Mj4mLfp",
      "authorship_tag": "ABX9TyPjiOciHhKuENr9aWr7hAvs",
      "include_colab_link": true
    },
    "kernelspec": {
      "display_name": "Python 3",
      "name": "python3"
    }
  },
  "cells": [
    {
      "cell_type": "markdown",
      "metadata": {
        "id": "view-in-github",
        "colab_type": "text"
      },
      "source": [
        "<a href=\"https://colab.research.google.com/github/hakseong1231/DACD-AudioSignalAnalysis/blob/main/DACD_MFCC_3.ipynb\" target=\"_parent\"><img src=\"https://colab.research.google.com/assets/colab-badge.svg\" alt=\"Open In Colab\"/></a>"
      ]
    },
    {
      "cell_type": "markdown",
      "metadata": {
        "id": "6HeMKgiSZMa6"
      },
      "source": [
        "# 음성 파일별로 MFCC 평균을 구해서 분석 + 랜덤포레스트 결과 개선"
      ]
    },
    {
      "cell_type": "code",
      "metadata": {
        "id": "pMQBZAUrfUlE",
        "colab": {
          "base_uri": "https://localhost:8080/"
        },
        "outputId": "7329d5e3-5521-4bba-9307-ebfe3a4ede56"
      },
      "source": [
        "from google.colab import drive\n",
        "drive.mount('/content/drive')"
      ],
      "execution_count": null,
      "outputs": [
        {
          "output_type": "stream",
          "text": [
            "Mounted at /content/drive\n"
          ],
          "name": "stdout"
        }
      ]
    },
    {
      "cell_type": "code",
      "metadata": {
        "id": "53MW0hX2tcjc",
        "colab": {
          "base_uri": "https://localhost:8080/"
        },
        "outputId": "9c0dbb2d-1fa0-4804-d3d8-80faee4a24d6"
      },
      "source": [
        "!pip install praat-parselmouth"
      ],
      "execution_count": null,
      "outputs": [
        {
          "output_type": "stream",
          "text": [
            "Collecting praat-parselmouth\n",
            "\u001b[?25l  Downloading https://files.pythonhosted.org/packages/09/7b/9fa1172a63b6277603d27bb5613559b5a8888f58e68c1698017b87b0061d/praat_parselmouth-0.3.3-cp36-cp36m-manylinux1_x86_64.whl (9.0MB)\n",
            "\u001b[K     |████████████████████████████████| 9.0MB 9.1MB/s \n",
            "\u001b[?25hRequirement already satisfied: numpy>=1.7.0 in /usr/local/lib/python3.6/dist-packages (from praat-parselmouth) (1.18.5)\n",
            "Installing collected packages: praat-parselmouth\n",
            "Successfully installed praat-parselmouth-0.3.3\n"
          ],
          "name": "stdout"
        }
      ]
    },
    {
      "cell_type": "code",
      "metadata": {
        "id": "NeZe6BPw5unM",
        "colab": {
          "base_uri": "https://localhost:8080/"
        },
        "outputId": "2a6d1f80-e2cb-4315-ef37-145d66d5b772"
      },
      "source": [
        "import os\n",
        "import librosa\n",
        "import pandas as pd\n",
        "import scipy.io.wavfile as wavf\n",
        "import numpy as np\n",
        "from sklearn.model_selection import train_test_split\n",
        "from sklearn import linear_model  # 로지스틱회귀 모듈\n",
        "from sklearn.ensemble import RandomForestClassifier  # 랜덤포레스트 모듈\n",
        "from sklearn.svm import SVC  # SVM 모듈\n",
        "from sklearn.externals import joblib  # 모델 저장에 사용\n",
        "from sklearn.metrics import confusion_matrix\n",
        "from sklearn.metrics import classification_report\n",
        "import time\n",
        "\n",
        "\n",
        "import warnings  # 경고 제거\n",
        "warnings.filterwarnings(action='ignore')\n",
        "\n",
        "sr = 16000  # Signal Rate\n",
        "categories = ['20F', '20M', '30M', '40F', '50F', '50M']\n",
        "wav_unprocessed = \"/content/drive/My Drive/DACD/DACD_unprocessed/\"\n",
        "wav_processed = \"/content/drive/My Drive/DACD/DACD_processed_2/\"\n",
        "wav_pickle = \"/content/drive/MyDrive/DACD/DACD_pickle_2/\""
      ],
      "execution_count": null,
      "outputs": [
        {
          "output_type": "stream",
          "text": [
            "/usr/local/lib/python3.6/dist-packages/sklearn/externals/joblib/__init__.py:15: FutureWarning: sklearn.externals.joblib is deprecated in 0.21 and will be removed in 0.23. Please import this functionality directly from joblib, which can be installed with: pip install joblib. If this warning is raised when loading pickled models, you may need to re-serialize those models with scikit-learn 0.21+.\n",
            "  warnings.warn(msg, category=FutureWarning)\n"
          ],
          "name": "stderr"
        }
      ]
    },
    {
      "cell_type": "markdown",
      "metadata": {
        "id": "fOsHSKaSsKSF"
      },
      "source": [
        "# Part 1. Generate Machine Learning Models"
      ]
    },
    {
      "cell_type": "markdown",
      "metadata": {
        "id": "HqWiD4sTDKho"
      },
      "source": [
        "1. Preprocessing"
      ]
    },
    {
      "cell_type": "code",
      "metadata": {
        "id": "DJx_c4jH6Cut"
      },
      "source": [
        "def remove_silence(wav_dir):\n",
        "  \"\"\"음원 내에 음압이 0인 부분을 제거\"\"\"\n",
        "\n",
        "  # y: 음 세기, sr: 1초당 데이터 수\n",
        "  y, _ = librosa.load(wav_dir, sr=sr)\n",
        "\n",
        "  # cut: 소리를 지우는 기준 음압\n",
        "  cut = max(y) / 300\n",
        "  y = pd.DataFrame(y)\n",
        "  y = y[abs(y[0]) > cut].to_numpy()\n",
        "  return y.T[0]"
      ],
      "execution_count": null,
      "outputs": []
    },
    {
      "cell_type": "code",
      "metadata": {
        "id": "-reFKNtL6Ued",
        "colab": {
          "base_uri": "https://localhost:8080/"
        },
        "outputId": "575e6714-8e66-4eec-801e-84b97aba192b"
      },
      "source": [
        "\"\"\"디렉토리 내 모든 .wav 파일에 remove_silence()를 실행하고 MFCC 벡터로 변환하여 저장\"\"\"\n",
        "\n",
        "run = input(\"Run? [Y/N] \")\n",
        "if run in ['Y', 'y']:\n",
        "  X_mfcc = pd.DataFrame([])\n",
        "  y_label = pd.DataFrame([], columns=[\"y_label\"])\n",
        "  for category in os.listdir(wav_unprocessed):\n",
        "    if category not in categories:\n",
        "      continue\n",
        "\n",
        "    print(\"[Now Processing]\", category)\n",
        "\n",
        "    save_dir = wav_processed + \"processed_\" + category + \"/\"\n",
        "    if not os.path.isdir(save_dir):\n",
        "      os.mkdir(save_dir)\n",
        "\n",
        "    for folder in os.listdir(wav_unprocessed + category):\n",
        "      folder_dir = wav_unprocessed + category + \"/\"\n",
        "\n",
        "      for file in os.listdir(folder_dir + folder):\n",
        "        if file.endswith(\".wav\"):\n",
        "          wav = folder_dir + folder + \"/\" + file  # 음원 위치\n",
        "          save = save_dir + category + \"_\" + file[5:]  # 저장 위치\n",
        "          try:\n",
        "            # 전처리한 음원의 MFCC 평균을 저장\n",
        "            y = remove_silence(wav)\n",
        "            X_mfcc = pd.concat([X_mfcc, pd.DataFrame(pd.DataFrame(librosa.feature.mfcc(y=y, sr=sr)).mean(axis=1)[1:]).T], axis=0, ignore_index=True)  # [1:]: 진동이 거의 없는 [0] 데이터 삭제\n",
        "            y_label = pd.concat([y_label, pd.DataFrame([category[-3:]], columns=[\"y_label\"])], axis=0, ignore_index=True)\n",
        "          except:\n",
        "            continue\n",
        "\n",
        "  print(\"[Finished]\")"
      ],
      "execution_count": null,
      "outputs": [
        {
          "output_type": "stream",
          "text": [
            "Run? [Y/N] Y\n",
            "[Now Processing] 20F\n",
            "[Now Processing] 20M\n",
            "[Now Processing] 30M\n",
            "[Now Processing] 50F\n",
            "[Now Processing] 40F\n",
            "[Now Processing] 50M\n",
            "[Finished]\n"
          ],
          "name": "stdout"
        }
      ]
    },
    {
      "cell_type": "code",
      "metadata": {
        "id": "KRy3IQejvFjn"
      },
      "source": [
        "\"\"\"음원의 MFCC 평균을 저장\"\"\"\n",
        "\n",
        "result.to_pickle(wav_pickle + \"X_mfcc.pkl\")\n",
        "y_label.to_pickle(wav_pickle + \"y_label.pkl\")"
      ],
      "execution_count": null,
      "outputs": []
    },
    {
      "cell_type": "markdown",
      "metadata": {
        "id": "PucRkt9qzqZD"
      },
      "source": [
        "2. Load MFCC"
      ]
    },
    {
      "cell_type": "code",
      "metadata": {
        "id": "KgGkt4P-wL8H"
      },
      "source": [
        "X_mfcc = pd.read_pickle(wav_pickle + \"X_mfcc.pkl\")\n",
        "y_label = pd.read_pickle(wav_pickle + \"y_label.pkl\")"
      ],
      "execution_count": null,
      "outputs": []
    },
    {
      "cell_type": "code",
      "metadata": {
        "id": "lJc5HTSHgCFB"
      },
      "source": [
        "X_train, X_test, y_train, y_test = train_test_split(X_mfcc, y_label, test_size=0.3, random_state=1)"
      ],
      "execution_count": null,
      "outputs": []
    },
    {
      "cell_type": "markdown",
      "metadata": {
        "id": "8bJF1iMUuq4I"
      },
      "source": [
        "3-1. Generate & Save Models"
      ]
    },
    {
      "cell_type": "code",
      "metadata": {
        "id": "Nfjg4Tw13xEL"
      },
      "source": [
        "\"\"\"1. Logistic Regression\"\"\"\n",
        "\n",
        "logreg = linear_model.LogisticRegression()\n",
        "logreg.fit(X_train, y_train)\n",
        "\n",
        "# 모델 저장\n",
        "if not os.path.isfile(wav_pickle + \"model_LogisticRegression.pkl\"):\n",
        "  joblib.dump(logreg, wav_pickle + \"model_LogisticRegression.pkl\")\n",
        "\n",
        "# 예측 결과 저장\n",
        "y_pred = pd.DataFrame(logreg.predict(X_test), columns=[\"y_label\"])\n",
        "if not os.path.isfile(wav_pickle + \"y_pred_LR.pkl\"):\n",
        "  y_pred.to_pickle(wav_pickle + \"y_pred_LR.pkl\")"
      ],
      "execution_count": null,
      "outputs": []
    },
    {
      "cell_type": "code",
      "metadata": {
        "id": "oLTb-Suuau4k"
      },
      "source": [
        "\"\"\"2. Random Forest\"\"\"\n",
        "\n",
        "forest = RandomForestClassifier(n_estimators=50, max_depth=15)\n",
        "forest.fit(X_train, y_train)\n",
        "\n",
        "# 모델 저장\n",
        "if not os.path.isfile(wav_pickle + \"model_RandomForest.pkl\"):\n",
        "  joblib.dump(forest, wav_pickle + \"model_RandomForest.pkl\")\n",
        "\n",
        "# 예측 결과 저장\n",
        "y_pred = pd.DataFrame(forest.predict(X_test), columns=[\"y_label\"])\n",
        "if not os.path.isfile(wav_pickle + \"y_pred_RF.pkl\"):\n",
        "  y_pred.to_pickle(wav_pickle + \"y_pred_RF.pkl\")"
      ],
      "execution_count": null,
      "outputs": []
    },
    {
      "cell_type": "code",
      "metadata": {
        "id": "OzvTdTHkorji"
      },
      "source": [
        "\"\"\"3. Support Vector Machine\"\"\"\n",
        "\n",
        "svm = SVC()\n",
        "svm.fit(X_train, y_train)\n",
        "\n",
        "# 모델 저장\n",
        "if not os.path.isfile(wav_pickle + \"model_SVM.pkl\"):\n",
        "  joblib.dump(svm, wav_pickle + \"model_SVM.pkl\")\n",
        "\n",
        "# 예측 결과 저장\n",
        "y_pred = pd.DataFrame(svm.predict(X_test), columns=[\"y_label\"])\n",
        "if not os.path.isfile(wav_pickle + \"y_pred_SVM.pkl\"):\n",
        "  y_pred.to_pickle(wav_pickle + \"y_pred_SVM.pkl\")"
      ],
      "execution_count": null,
      "outputs": []
    },
    {
      "cell_type": "markdown",
      "metadata": {
        "id": "lar7bokEtFtm"
      },
      "source": [
        "3-2. Validate Classification Models"
      ]
    },
    {
      "cell_type": "code",
      "metadata": {
        "id": "mF3x_ETgtLCk",
        "colab": {
          "base_uri": "https://localhost:8080/"
        },
        "outputId": "8c320beb-b79d-4478-fea1-1b551c22e524"
      },
      "source": [
        "\"\"\"1. Logistic Regression\"\"\"\n",
        "\n",
        "y_pred = pd.read_pickle(wav_pickle + \"y_pred_LR.pkl\")\n",
        "\n",
        "# 정답/ 오답 비율 계산\n",
        "print(confusion_matrix(y_test, y_pred), \"\\n\")\n",
        "print(classification_report(y_test, y_pred, digits=4))"
      ],
      "execution_count": null,
      "outputs": [
        {
          "output_type": "stream",
          "text": [
            "[[5002   55   14  406  124   28]\n",
            " [  78 3970  630   27   18  247]\n",
            " [  10  577 4180    4   11  417]\n",
            " [ 478   61   31 4456  447   73]\n",
            " [ 306   18   79 1087  758   70]\n",
            " [  53  417  455  121   46 1360]] \n",
            "\n",
            "              precision    recall  f1-score   support\n",
            "\n",
            "         20F     0.8439    0.8886    0.8657      5629\n",
            "         20M     0.7787    0.7988    0.7886      4970\n",
            "         30M     0.7757    0.8040    0.7896      5199\n",
            "         40F     0.7304    0.8035    0.7652      5546\n",
            "         50F     0.5399    0.3270    0.4073      2318\n",
            "         50M     0.6196    0.5546    0.5853      2452\n",
            "\n",
            "    accuracy                         0.7554     26114\n",
            "   macro avg     0.7147    0.6961    0.7003     26114\n",
            "weighted avg     0.7458    0.7554    0.7475     26114\n",
            "\n"
          ],
          "name": "stdout"
        }
      ]
    },
    {
      "cell_type": "code",
      "metadata": {
        "id": "jKGkhVEhtNCN",
        "colab": {
          "base_uri": "https://localhost:8080/"
        },
        "outputId": "251e189d-87a1-4d1b-b03d-d049559db708"
      },
      "source": [
        "\"\"\"2. Random Forest\"\"\"\n",
        "\n",
        "y_pred = pd.read_pickle(wav_pickle + \"y_pred_RF.pkl\")\n",
        "\n",
        "# 정답/ 오답 비율 계산\n",
        "print(confusion_matrix(y_test, y_pred), \"\\n\")\n",
        "print(classification_report(y_test, y_pred, digits=4))"
      ],
      "execution_count": null,
      "outputs": [
        {
          "output_type": "stream",
          "text": [
            "[[5497   34    8   77   10    3]\n",
            " [  11 4866   58    5    2   28]\n",
            " [   1   67 5104    2    1   24]\n",
            " [ 136   17    9 5356   23    5]\n",
            " [ 118   19    3  229 1944    5]\n",
            " [  16   58   70    8   11 2289]] \n",
            "\n",
            "              precision    recall  f1-score   support\n",
            "\n",
            "         20F     0.9512    0.9766    0.9637      5629\n",
            "         20M     0.9615    0.9791    0.9702      4970\n",
            "         30M     0.9718    0.9817    0.9767      5199\n",
            "         40F     0.9435    0.9657    0.9545      5546\n",
            "         50F     0.9764    0.8387    0.9023      2318\n",
            "         50M     0.9724    0.9335    0.9526      2452\n",
            "\n",
            "    accuracy                         0.9595     26114\n",
            "   macro avg     0.9628    0.9459    0.9533     26114\n",
            "weighted avg     0.9598    0.9595    0.9591     26114\n",
            "\n"
          ],
          "name": "stdout"
        }
      ]
    },
    {
      "cell_type": "code",
      "metadata": {
        "id": "nqr6mYb6t5zl",
        "colab": {
          "base_uri": "https://localhost:8080/"
        },
        "outputId": "6b1715f1-f895-4a8c-ac4a-b2e684e098c0"
      },
      "source": [
        "\"\"\"3. Support Vector Machine\"\"\"\n",
        "\n",
        "y_pred = pd.read_pickle(wav_pickle + \"y_pred_SVM.pkl\")\n",
        "\n",
        "# 정답/ 오답 비율 계산\n",
        "print(confusion_matrix(y_test, y_pred), \"\\n\")\n",
        "print(classification_report(y_test, y_pred, digits=4))"
      ],
      "execution_count": null,
      "outputs": [
        {
          "output_type": "stream",
          "text": [
            "[[5327   14    3  215   64    6]\n",
            " [  18 4711  155    2    6   78]\n",
            " [   1  183 4935    4    2   74]\n",
            " [ 326   33    9 5094   77    7]\n",
            " [ 294   18    4  728 1256   18]\n",
            " [  34  127  243   42   27 1979]] \n",
            "\n",
            "              precision    recall  f1-score   support\n",
            "\n",
            "         20F     0.8878    0.9463    0.9162      5629\n",
            "         20M     0.9263    0.9479    0.9370      4970\n",
            "         30M     0.9226    0.9492    0.9357      5199\n",
            "         40F     0.8371    0.9185    0.8759      5546\n",
            "         50F     0.8771    0.5418    0.6699      2318\n",
            "         50M     0.9154    0.8071    0.8578      2452\n",
            "\n",
            "    accuracy                         0.8923     26114\n",
            "   macro avg     0.8944    0.8518    0.8654     26114\n",
            "weighted avg     0.8929    0.8923    0.8881     26114\n",
            "\n"
          ],
          "name": "stdout"
        }
      ]
    },
    {
      "cell_type": "markdown",
      "metadata": {
        "id": "GPMS-kxnsUC1"
      },
      "source": [
        "# Part 2. Optimize Random Forest Model"
      ]
    },
    {
      "cell_type": "code",
      "metadata": {
        "id": "14i-ktAzxJcH"
      },
      "source": [
        "logreg = joblib.load(wav_pickle + \"model_LogisticRegression.pkl\")\n",
        "rand = joblib.load(wav_pickle + \"model_RandomForest.pkl\")\n",
        "svm = joblib.load(wav_pickle + \"model_SVM.pkl\")"
      ],
      "execution_count": null,
      "outputs": []
    },
    {
      "cell_type": "code",
      "metadata": {
        "colab": {
          "base_uri": "https://localhost:8080/"
        },
        "id": "_yeb76tgfTTd",
        "outputId": "c00f9a86-3d1a-4100-c416-ffdb3aa83519"
      },
      "source": [
        "# 랜덤 포레스트를 n번 실행해서 T, D에 따른 Accuracy의 평균값 출력\n",
        "n = 50\n",
        "print(\"[RandomForest {}회 평균 Accuracy]\".format(n))\n",
        "for T in [10, 20, 30, 40, 50, 60, 70, 80, 90, 100]:\n",
        "  print(\"T =\", T)\n",
        "  for D in [2, 3, 5, 7, 10, 13, 16, 20, 25, 30]:\n",
        "    sum = 0\n",
        "    for i in range(n):\n",
        "      forest = RandomForestClassifier(n_estimators=T, max_depth=D)\n",
        "      forest.fit(X_train, y_train)\n",
        "      sum += forest.score(X_test, y_test)\n",
        "    print(\"- D = {:<2} : {:.4f}\".format(D, sum/n))\n",
        "  print(\"\")"
      ],
      "execution_count": null,
      "outputs": [
        {
          "output_type": "stream",
          "text": [
            "[RandomForest 50회 평균 Accuracy]\n",
            "T = 10\n",
            "- D = 2  : 0.5681\n",
            "- D = 3  : 0.6256\n",
            "- D = 5  : 0.7316\n",
            "- D = 7  : 0.8257\n",
            "- D = 10 : 0.9037\n",
            "- D = 13 : 0.9342\n",
            "- D = 16 : 0.9446\n",
            "- D = 20 : 0.9472\n",
            "- D = 25 : 0.9473\n",
            "- D = 30 : 0.9472\n",
            "\n",
            "T = 20\n",
            "- D = 2  : 0.5812\n",
            "- D = 3  : 0.6374\n",
            "- D = 5  : 0.7428\n",
            "- D = 7  : 0.8394\n",
            "- D = 10 : 0.9140\n",
            "- D = 13 : 0.9438\n",
            "- D = 16 : 0.9554\n",
            "- D = 20 : 0.9589\n",
            "- D = 25 : 0.9595\n",
            "- D = 30 : 0.9592\n",
            "\n",
            "T = 30\n",
            "- D = 2  : 0.5873\n",
            "- D = 3  : 0.6443\n",
            "- D = 5  : 0.7468\n",
            "- D = 7  : 0.8439\n",
            "- D = 10 : 0.9169\n",
            "- D = 13 : 0.9470\n",
            "- D = 16 : 0.9585\n",
            "- D = 20 : 0.9627\n",
            "- D = 25 : 0.9633\n",
            "- D = 30 : 0.9630\n",
            "\n",
            "T = 40\n",
            "- D = 2  : 0.5884\n",
            "- D = 3  : 0.6464\n",
            "- D = 5  : 0.7513\n",
            "- D = 7  : 0.8472\n",
            "- D = 10 : 0.9187\n",
            "- D = 13 : 0.9489\n",
            "- D = 16 : 0.9603\n",
            "- D = 20 : 0.9645\n",
            "- D = 25 : 0.9653\n",
            "- D = 30 : 0.9651\n",
            "\n",
            "T = 50\n",
            "- D = 2  : 0.5911\n",
            "- D = 3  : 0.6460\n",
            "- D = 5  : 0.7519\n",
            "- D = 7  : 0.8481\n",
            "- D = 10 : 0.9200\n",
            "- D = 13 : 0.9496\n",
            "- D = 16 : 0.9613\n",
            "- D = 20 : 0.9656\n",
            "- D = 25 : 0.9666\n",
            "- D = 30 : 0.9664\n",
            "\n",
            "T = 60\n",
            "- D = 2  : 0.5919\n",
            "- D = 3  : 0.6529\n",
            "- D = 5  : 0.7517\n",
            "- D = 7  : 0.8495\n",
            "- D = 10 : 0.9208\n",
            "- D = 13 : 0.9502\n",
            "- D = 16 : 0.9617\n",
            "- D = 20 : 0.9662\n",
            "- D = 25 : 0.9672\n",
            "- D = 30 : 0.9672\n",
            "\n",
            "T = 70\n",
            "- D = 2  : 0.5912\n",
            "- D = 3  : 0.6505\n",
            "- D = 5  : 0.7524\n",
            "- D = 7  : 0.8502\n",
            "- D = 10 : 0.9207\n",
            "- D = 13 : 0.9506\n",
            "- D = 16 : 0.9624\n",
            "- D = 20 : 0.9669\n",
            "- D = 25 : 0.9677\n",
            "- D = 30 : 0.9675\n",
            "\n",
            "T = 80\n",
            "- D = 2  : 0.5975\n",
            "- D = 3  : 0.6506\n",
            "- D = 5  : 0.7537\n",
            "- D = 7  : 0.8507\n",
            "- D = 10 : 0.9214\n",
            "- D = 13 : 0.9509\n",
            "- D = 16 : 0.9626\n",
            "- D = 20 : 0.9671\n"
          ],
          "name": "stdout"
        }
      ]
    },
    {
      "cell_type": "code",
      "metadata": {
        "colab": {
          "base_uri": "https://localhost:8080/"
        },
        "id": "B2wdw3yZEF6_",
        "outputId": "4a9ab24f-73ae-4cfd-d37c-f1cc8af94510"
      },
      "source": [
        ""
      ],
      "execution_count": null,
      "outputs": [
        {
          "output_type": "stream",
          "text": [
            "- D = 25 : 0.9682\n",
            "- D = 30 : 0.9681\n",
            "\n",
            "T = 90\n",
            "- D = 2  : 0.5962\n",
            "- D = 3  : 0.6527\n",
            "- D = 5  : 0.7535\n",
            "- D = 7  : 0.8509\n",
            "- D = 10 : 0.9216\n",
            "- D = 13 : 0.9514\n",
            "- D = 16 : 0.9631\n",
            "- D = 20 : 0.9674\n",
            "- D = 25 : 0.9684\n",
            "- D = 30 : 0.9685\n",
            "\n",
            "T = 100\n",
            "- D = 2  : 0.5963\n",
            "- D = 3  : 0.6528\n",
            "- D = 5  : 0.7544\n",
            "- D = 7  : 0.8513\n",
            "- D = 10 : 0.9218\n",
            "- D = 13 : 0.9516\n",
            "- D = 16 : 0.9632\n",
            "- D = 20 : 0.9676\n",
            "- D = 25 : 0.9687\n",
            "- D = 30 : 0.9686\n",
            "\n"
          ],
          "name": "stdout"
        }
      ]
    },
    {
      "cell_type": "markdown",
      "metadata": {
        "id": "E_jWJt0xUUW7"
      },
      "source": [
        "-> T: 증가할수록 Accuracy 상승  \n",
        "-> D: D=25에서 Accuracy 최대  \n",
        "-> 연산 시간과 분류 성능을 고려해 T, D 선정"
      ]
    },
    {
      "cell_type": "code",
      "metadata": {
        "colab": {
          "base_uri": "https://localhost:8080/"
        },
        "id": "B-GkEvXSeKAY",
        "outputId": "945114b1-5bea-4de5-8157-3ade7fd4a3d4"
      },
      "source": [
        "start = time.time()\n",
        "\n",
        "forest = RandomForestClassifier(n_estimators=100, max_depth=25)\n",
        "forest.fit(X_train, y_train)\n",
        "y_pred = pd.DataFrame(forest.predict(X_test), columns=[\"y_label\"])\n",
        "print(\"[Time Consumed] {:.2f}sec\".format(time.time() - start))\n",
        "print(confusion_matrix(y_test, y_pred), \"\\n\")\n",
        "print(classification_report(y_test, y_pred, digits=4))"
      ],
      "execution_count": null,
      "outputs": [
        {
          "output_type": "stream",
          "text": [
            "[Time Consumed] 42.03sec\n",
            "[[5540   20    6   51    8    4]\n",
            " [  13 4866   56    4    3   28]\n",
            " [   2   48 5128    1    1   19]\n",
            " [ 116   13   10 5376   27    4]\n",
            " [  76   18    3  160 2059    2]\n",
            " [  17   43   53    6   11 2322]] \n",
            "\n",
            "              precision    recall  f1-score   support\n",
            "\n",
            "         20F     0.9611    0.9842    0.9725      5629\n",
            "         20M     0.9716    0.9791    0.9753      4970\n",
            "         30M     0.9756    0.9863    0.9810      5199\n",
            "         40F     0.9603    0.9693    0.9648      5546\n",
            "         50F     0.9763    0.8883    0.9302      2318\n",
            "         50M     0.9760    0.9470    0.9613      2452\n",
            "\n",
            "    accuracy                         0.9685     26114\n",
            "   macro avg     0.9702    0.9590    0.9642     26114\n",
            "weighted avg     0.9686    0.9685    0.9683     26114\n",
            "\n"
          ],
          "name": "stdout"
        }
      ]
    },
    {
      "cell_type": "code",
      "metadata": {
        "colab": {
          "base_uri": "https://localhost:8080/"
        },
        "id": "l6e5TkKOY7nw",
        "outputId": "f88684b9-9787-4e6e-ed59-6dfd860a0112"
      },
      "source": [
        "start = time.time()\n",
        "forest = RandomForestClassifier(n_estimators=200, max_depth=25)\n",
        "forest.fit(X_train, y_train)\n",
        "y_pred = pd.DataFrame(forest.predict(X_test), columns=[\"y_label\"])\n",
        "\n",
        "print(\"[Time Consumed] {:.2f}sec\".format(time.time() - start))\n",
        "print(confusion_matrix(y_test, y_pred), \"\\n\")\n",
        "print(classification_report(y_test, y_pred, digits=4))"
      ],
      "execution_count": null,
      "outputs": [
        {
          "output_type": "stream",
          "text": [
            "[Time Consumed] 84.36sec\n",
            "[[5538   21    9   51    8    2]\n",
            " [  10 4872   53    3    6   26]\n",
            " [   0   41 5137    3    0   18]\n",
            " [ 104   11    9 5394   26    2]\n",
            " [  78   16    4  149 2070    1]\n",
            " [  16   42   57    7    6 2324]] \n",
            "\n",
            "              precision    recall  f1-score   support\n",
            "\n",
            "         20F     0.9638    0.9838    0.9737      5629\n",
            "         20M     0.9738    0.9803    0.9770      4970\n",
            "         30M     0.9749    0.9881    0.9815      5199\n",
            "         40F     0.9620    0.9726    0.9673      5546\n",
            "         50F     0.9783    0.8930    0.9337      2318\n",
            "         50M     0.9794    0.9478    0.9633      2452\n",
            "\n",
            "    accuracy                         0.9702     26114\n",
            "   macro avg     0.9720    0.9609    0.9661     26114\n",
            "weighted avg     0.9703    0.9702    0.9700     26114\n",
            "\n"
          ],
          "name": "stdout"
        }
      ]
    },
    {
      "cell_type": "code",
      "metadata": {
        "colab": {
          "base_uri": "https://localhost:8080/"
        },
        "id": "e8JJbG2XZfcT",
        "outputId": "ac90594a-b5f7-40f2-c2d9-77675d6c7bbd"
      },
      "source": [
        "start = time.time()\n",
        "forest = RandomForestClassifier(n_estimators=1000, max_depth=25)\n",
        "forest.fit(X_train, y_train)\n",
        "y_pred = pd.DataFrame(forest.predict(X_test), columns=[\"y_label\"])\n",
        "\n",
        "print(\"[Time Consumed] {:.2f}sec\".format(time.time() - start))\n",
        "print(confusion_matrix(y_test, y_pred), \"\\n\")\n",
        "print(classification_report(y_test, y_pred, digits=4))"
      ],
      "execution_count": null,
      "outputs": [
        {
          "output_type": "stream",
          "text": [
            "[Time Consumed] 420.63sec\n",
            "[[5541   24    7   46    9    2]\n",
            " [  11 4872   55    3    4   25]\n",
            " [   0   39 5137    2    0   21]\n",
            " [ 105   12   10 5396   21    2]\n",
            " [  79   16    3  143 2074    3]\n",
            " [  14   38   53    8    7 2332]] \n",
            "\n",
            "              precision    recall  f1-score   support\n",
            "\n",
            "         20F     0.9637    0.9844    0.9739      5629\n",
            "         20M     0.9742    0.9803    0.9772      4970\n",
            "         30M     0.9757    0.9881    0.9818      5199\n",
            "         40F     0.9639    0.9730    0.9684      5546\n",
            "         50F     0.9806    0.8947    0.9357      2318\n",
            "         50M     0.9778    0.9511    0.9642      2452\n",
            "\n",
            "    accuracy                         0.9708     26114\n",
            "   macro avg     0.9726    0.9619    0.9669     26114\n",
            "weighted avg     0.9709    0.9708    0.9707     26114\n",
            "\n"
          ],
          "name": "stdout"
        }
      ]
    },
    {
      "cell_type": "markdown",
      "metadata": {
        "id": "o69KoZhDpSYD"
      },
      "source": [
        "-> T와 연산 시간 비례(약 T=100개/42초)\n",
        "- T=1000, D=25: 연산시간 420.63초, Accuracy: 0.9708  \n",
        "- T=30,   D=25: 연산시간 10.93초, Accuracy: 0.9633(오차 1% 이내)"
      ]
    },
    {
      "cell_type": "code",
      "metadata": {
        "colab": {
          "base_uri": "https://localhost:8080/"
        },
        "id": "CagHCPW4p1ZC",
        "outputId": "59a4af02-3eee-439e-d208-4c6f79ff5866"
      },
      "source": [
        "start = time.time()\n",
        "forest = RandomForestClassifier(n_estimators=30, max_depth=25)\n",
        "forest.fit(X_train, y_train)\n",
        "y_pred = pd.DataFrame(forest.predict(X_test), columns=[\"y_label\"])\n",
        "\n",
        "print(\"[Time Consumed] {:.2f}sec\".format(time.time() - start))\n",
        "print(confusion_matrix(y_test, y_pred), \"\\n\")\n",
        "print(classification_report(y_test, y_pred, digits=4))"
      ],
      "execution_count": null,
      "outputs": [
        {
          "output_type": "stream",
          "text": [
            "[Time Consumed] 10.93sec\n",
            "[[5511   26    9   59   21    3]\n",
            " [  15 4844   67    5    4   35]\n",
            " [   1   54 5114    3    1   26]\n",
            " [ 123   16   14 5348   41    4]\n",
            " [ 103   22    2  176 2012    3]\n",
            " [  16   47   69    8   11 2301]] \n",
            "\n",
            "              precision    recall  f1-score   support\n",
            "\n",
            "         20F     0.9553    0.9790    0.9670      5629\n",
            "         20M     0.9671    0.9746    0.9708      4970\n",
            "         30M     0.9695    0.9837    0.9765      5199\n",
            "         40F     0.9552    0.9643    0.9597      5546\n",
            "         50F     0.9627    0.8680    0.9129      2318\n",
            "         50M     0.9701    0.9384    0.9540      2452\n",
            "\n",
            "    accuracy                         0.9623     26114\n",
            "   macro avg     0.9633    0.9513    0.9568     26114\n",
            "weighted avg     0.9624    0.9623    0.9621     26114\n",
            "\n"
          ],
          "name": "stdout"
        }
      ]
    },
    {
      "cell_type": "markdown",
      "metadata": {
        "id": "0ID5pFujyEgq"
      },
      "source": [
        "결론: RandomForest(T=Inf, D=25)의 성능이 가장 뛰어나고,\n",
        "성능을 고려했을 때 T=30으로 충분함"
      ]
    }
  ]
}